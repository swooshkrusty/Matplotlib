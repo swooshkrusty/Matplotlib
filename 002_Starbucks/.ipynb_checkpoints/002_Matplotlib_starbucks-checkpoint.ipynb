{
 "cells": [
  {
   "cell_type": "markdown",
   "id": "4264dad1",
   "metadata": {},
   "source": [
    "## 1. Introduction\n",
    "\n",
    "### Background:\n",
    "- Starbucks started its coffee business with a single store in Seattle in 1971.\n",
    "- Now, it has stores in many countries with more than 20,000 stores worldwide.  \n",
    "\n",
    "### Objective:\n",
    "1. Examining Starbucks coffee stores worldwide \n",
    "2. Which country has the highest number of Starbucks stores? **United States having the highest number of stores (13,608).**\n",
    "3. Which city worldwide has the highest number of Starbucks stores? **上海市 (Shanghai) with 542 stores**\n",
    "4. Which states in the USA have the highest number of Starbucks stores? **California (CA), with a total of 2821 stores.**\n",
    "\n",
    "### Data Description:\n",
    "1. **Brand:** brand of coffees\n",
    "2. **Store Number:** number of the store\n",
    "3. **Store Name:** name of the store\n",
    "4. **Ownership Type:** type of ownership of the store\n",
    "5. **Street Address:** street address of the store\n",
    "6. **City:** city location of the store\n",
    "7. **State/Province:** state where the store is located\n",
    "8. **Country:** country where the store is located\n",
    "9. **Postcode:** the store postcode\n",
    "10. **Phone Number:** the store phone number  \n",
    "11. **Timezone:** time zone of the location where the store is located\n",
    "12. **Longitude:** longitude of the city\n",
    "13. **Latitude:** latitude of the city"
   ]
  },
  {
   "cell_type": "markdown",
   "id": "c16eeec5",
   "metadata": {},
   "source": [
    "## 2. Importing Libraries:"
   ]
  },
  {
   "cell_type": "code",
   "execution_count": 1,
   "id": "e841cf47",
   "metadata": {},
   "outputs": [],
   "source": [
    "# general libraries\n",
    "import numpy as np\n",
    "import pandas as pd\n",
    "\n",
    "# data visualization libraries\n",
    "import matplotlib.pyplot as plt\n",
    "import seaborn as sns\n",
    "%matplotlib inline\n",
    "\n",
    "# library to supress warnings\n",
    "import warnings\n",
    "warnings.filterwarnings('ignore')"
   ]
  },
  {
   "cell_type": "markdown",
   "id": "5d0ea635",
   "metadata": {},
   "source": [
    "## 3. Loading Data:\n",
    "- Load dataset and with df  name\n",
    "- Create a copy of the dataset and name it starbucks"
   ]
  },
  {
   "cell_type": "code",
   "execution_count": 2,
   "id": "63644c1d",
   "metadata": {},
   "outputs": [],
   "source": [
    "df = pd.read_csv('starbucks.csv')"
   ]
  },
  {
   "cell_type": "code",
   "execution_count": 3,
   "id": "669bb9c3",
   "metadata": {},
   "outputs": [],
   "source": [
    "starbucks = df.copy()"
   ]
  },
  {
   "cell_type": "code",
   "execution_count": 4,
   "id": "84aedae7",
   "metadata": {},
   "outputs": [],
   "source": [
    "# full string for the column\n",
    "pd.set_option('display.max_colwidth', None)"
   ]
  },
  {
   "cell_type": "markdown",
   "id": "464df262",
   "metadata": {},
   "source": [
    "## 4. EDA (Exploratory Data Analysis)"
   ]
  },
  {
   "cell_type": "markdown",
   "id": "914f2399",
   "metadata": {},
   "source": [
    "- **A) Basic Data Exploration: Examine the following**\n",
    "   - head\n",
    "   - tail\n",
    "   - shape\n",
    "   - data information\n",
    "   - missing values\n",
    "   - statistical summary\n",
    "   - summary of object features\n",
    "   - duplicated\n",
    "   - names of columns"
   ]
  },
  {
   "cell_type": "code",
   "execution_count": 5,
   "id": "4be26c3f",
   "metadata": {},
   "outputs": [
    {
     "data": {
      "text/html": [
       "<div>\n",
       "<style scoped>\n",
       "    .dataframe tbody tr th:only-of-type {\n",
       "        vertical-align: middle;\n",
       "    }\n",
       "\n",
       "    .dataframe tbody tr th {\n",
       "        vertical-align: top;\n",
       "    }\n",
       "\n",
       "    .dataframe thead th {\n",
       "        text-align: right;\n",
       "    }\n",
       "</style>\n",
       "<table border=\"1\" class=\"dataframe\">\n",
       "  <thead>\n",
       "    <tr style=\"text-align: right;\">\n",
       "      <th></th>\n",
       "      <th>Brand</th>\n",
       "      <th>Store Number</th>\n",
       "      <th>Store Name</th>\n",
       "      <th>Ownership Type</th>\n",
       "      <th>Street Address</th>\n",
       "      <th>City</th>\n",
       "      <th>State/Province</th>\n",
       "      <th>Country</th>\n",
       "      <th>Postcode</th>\n",
       "      <th>Phone Number</th>\n",
       "      <th>Timezone</th>\n",
       "      <th>Longitude</th>\n",
       "      <th>Latitude</th>\n",
       "    </tr>\n",
       "  </thead>\n",
       "  <tbody>\n",
       "    <tr>\n",
       "      <th>0</th>\n",
       "      <td>Starbucks</td>\n",
       "      <td>47370-257954</td>\n",
       "      <td>Meritxell, 96</td>\n",
       "      <td>Licensed</td>\n",
       "      <td>Av. Meritxell, 96</td>\n",
       "      <td>Andorra la Vella</td>\n",
       "      <td>7</td>\n",
       "      <td>AD</td>\n",
       "      <td>AD500</td>\n",
       "      <td>376818720</td>\n",
       "      <td>GMT+1:00 Europe/Andorra</td>\n",
       "      <td>1.53</td>\n",
       "      <td>42.51</td>\n",
       "    </tr>\n",
       "    <tr>\n",
       "      <th>1</th>\n",
       "      <td>Starbucks</td>\n",
       "      <td>22331-212325</td>\n",
       "      <td>Ajman Drive Thru</td>\n",
       "      <td>Licensed</td>\n",
       "      <td>1 Street 69, Al Jarf</td>\n",
       "      <td>Ajman</td>\n",
       "      <td>AJ</td>\n",
       "      <td>AE</td>\n",
       "      <td>NaN</td>\n",
       "      <td>NaN</td>\n",
       "      <td>GMT+04:00 Asia/Dubai</td>\n",
       "      <td>55.47</td>\n",
       "      <td>25.42</td>\n",
       "    </tr>\n",
       "    <tr>\n",
       "      <th>2</th>\n",
       "      <td>Starbucks</td>\n",
       "      <td>47089-256771</td>\n",
       "      <td>Dana Mall</td>\n",
       "      <td>Licensed</td>\n",
       "      <td>Sheikh Khalifa Bin Zayed St.</td>\n",
       "      <td>Ajman</td>\n",
       "      <td>AJ</td>\n",
       "      <td>AE</td>\n",
       "      <td>NaN</td>\n",
       "      <td>NaN</td>\n",
       "      <td>GMT+04:00 Asia/Dubai</td>\n",
       "      <td>55.47</td>\n",
       "      <td>25.39</td>\n",
       "    </tr>\n",
       "    <tr>\n",
       "      <th>3</th>\n",
       "      <td>Starbucks</td>\n",
       "      <td>22126-218024</td>\n",
       "      <td>Twofour 54</td>\n",
       "      <td>Licensed</td>\n",
       "      <td>Al Salam Street</td>\n",
       "      <td>Abu Dhabi</td>\n",
       "      <td>AZ</td>\n",
       "      <td>AE</td>\n",
       "      <td>NaN</td>\n",
       "      <td>NaN</td>\n",
       "      <td>GMT+04:00 Asia/Dubai</td>\n",
       "      <td>54.38</td>\n",
       "      <td>24.48</td>\n",
       "    </tr>\n",
       "    <tr>\n",
       "      <th>4</th>\n",
       "      <td>Starbucks</td>\n",
       "      <td>17127-178586</td>\n",
       "      <td>Al Ain Tower</td>\n",
       "      <td>Licensed</td>\n",
       "      <td>Khaldiya Area, Abu Dhabi Island</td>\n",
       "      <td>Abu Dhabi</td>\n",
       "      <td>AZ</td>\n",
       "      <td>AE</td>\n",
       "      <td>NaN</td>\n",
       "      <td>NaN</td>\n",
       "      <td>GMT+04:00 Asia/Dubai</td>\n",
       "      <td>54.54</td>\n",
       "      <td>24.51</td>\n",
       "    </tr>\n",
       "  </tbody>\n",
       "</table>\n",
       "</div>"
      ],
      "text/plain": [
       "       Brand  Store Number        Store Name Ownership Type  \\\n",
       "0  Starbucks  47370-257954     Meritxell, 96       Licensed   \n",
       "1  Starbucks  22331-212325  Ajman Drive Thru       Licensed   \n",
       "2  Starbucks  47089-256771         Dana Mall       Licensed   \n",
       "3  Starbucks  22126-218024        Twofour 54       Licensed   \n",
       "4  Starbucks  17127-178586      Al Ain Tower       Licensed   \n",
       "\n",
       "                    Street Address              City State/Province Country  \\\n",
       "0                Av. Meritxell, 96  Andorra la Vella              7      AD   \n",
       "1             1 Street 69, Al Jarf             Ajman             AJ      AE   \n",
       "2     Sheikh Khalifa Bin Zayed St.             Ajman             AJ      AE   \n",
       "3                  Al Salam Street         Abu Dhabi             AZ      AE   \n",
       "4  Khaldiya Area, Abu Dhabi Island         Abu Dhabi             AZ      AE   \n",
       "\n",
       "  Postcode Phone Number                 Timezone  Longitude  Latitude  \n",
       "0    AD500    376818720  GMT+1:00 Europe/Andorra       1.53     42.51  \n",
       "1      NaN          NaN     GMT+04:00 Asia/Dubai      55.47     25.42  \n",
       "2      NaN          NaN     GMT+04:00 Asia/Dubai      55.47     25.39  \n",
       "3      NaN          NaN     GMT+04:00 Asia/Dubai      54.38     24.48  \n",
       "4      NaN          NaN     GMT+04:00 Asia/Dubai      54.54     24.51  "
      ]
     },
     "execution_count": 5,
     "metadata": {},
     "output_type": "execute_result"
    }
   ],
   "source": [
    "starbucks.head()"
   ]
  },
  {
   "cell_type": "code",
   "execution_count": 6,
   "id": "23aa16b9",
   "metadata": {},
   "outputs": [
    {
     "data": {
      "text/html": [
       "<div>\n",
       "<style scoped>\n",
       "    .dataframe tbody tr th:only-of-type {\n",
       "        vertical-align: middle;\n",
       "    }\n",
       "\n",
       "    .dataframe tbody tr th {\n",
       "        vertical-align: top;\n",
       "    }\n",
       "\n",
       "    .dataframe thead th {\n",
       "        text-align: right;\n",
       "    }\n",
       "</style>\n",
       "<table border=\"1\" class=\"dataframe\">\n",
       "  <thead>\n",
       "    <tr style=\"text-align: right;\">\n",
       "      <th></th>\n",
       "      <th>Brand</th>\n",
       "      <th>Store Number</th>\n",
       "      <th>Store Name</th>\n",
       "      <th>Ownership Type</th>\n",
       "      <th>Street Address</th>\n",
       "      <th>City</th>\n",
       "      <th>State/Province</th>\n",
       "      <th>Country</th>\n",
       "      <th>Postcode</th>\n",
       "      <th>Phone Number</th>\n",
       "      <th>Timezone</th>\n",
       "      <th>Longitude</th>\n",
       "      <th>Latitude</th>\n",
       "    </tr>\n",
       "  </thead>\n",
       "  <tbody>\n",
       "    <tr>\n",
       "      <th>25595</th>\n",
       "      <td>Starbucks</td>\n",
       "      <td>21401-212072</td>\n",
       "      <td>Rex</td>\n",
       "      <td>Licensed</td>\n",
       "      <td>141 Nguyễn Huệ, Quận 1, Góc đường Pasteur và Lê Thánh Tôn</td>\n",
       "      <td>Thành Phố Hồ Chí Minh</td>\n",
       "      <td>SG</td>\n",
       "      <td>VN</td>\n",
       "      <td>70000</td>\n",
       "      <td>08 3824 4668</td>\n",
       "      <td>GMT+000000 Asia/Saigon</td>\n",
       "      <td>106.70</td>\n",
       "      <td>10.78</td>\n",
       "    </tr>\n",
       "    <tr>\n",
       "      <th>25596</th>\n",
       "      <td>Starbucks</td>\n",
       "      <td>24010-226985</td>\n",
       "      <td>Panorama</td>\n",
       "      <td>Licensed</td>\n",
       "      <td>SN-44, Tòa Nhà Panorama, 208 Trần Văn Trà, Quận 7</td>\n",
       "      <td>Thành Phố Hồ Chí Minh</td>\n",
       "      <td>SG</td>\n",
       "      <td>VN</td>\n",
       "      <td>70000</td>\n",
       "      <td>08 5413 8292</td>\n",
       "      <td>GMT+000000 Asia/Saigon</td>\n",
       "      <td>106.71</td>\n",
       "      <td>10.72</td>\n",
       "    </tr>\n",
       "    <tr>\n",
       "      <th>25597</th>\n",
       "      <td>Starbucks</td>\n",
       "      <td>47608-253804</td>\n",
       "      <td>Rosebank Mall</td>\n",
       "      <td>Licensed</td>\n",
       "      <td>Cnr Tyrwhitt and Cradock Avenue, Rosebank</td>\n",
       "      <td>Johannesburg</td>\n",
       "      <td>GT</td>\n",
       "      <td>ZA</td>\n",
       "      <td>2194</td>\n",
       "      <td>27873500159</td>\n",
       "      <td>GMT+000000 Africa/Johannesburg</td>\n",
       "      <td>28.04</td>\n",
       "      <td>-26.15</td>\n",
       "    </tr>\n",
       "    <tr>\n",
       "      <th>25598</th>\n",
       "      <td>Starbucks</td>\n",
       "      <td>47640-253809</td>\n",
       "      <td>Menlyn Maine</td>\n",
       "      <td>Licensed</td>\n",
       "      <td>Shop 61B, Central Square, Cnr Aramist &amp; Corobay Avenue</td>\n",
       "      <td>Menlyn</td>\n",
       "      <td>GT</td>\n",
       "      <td>ZA</td>\n",
       "      <td>181</td>\n",
       "      <td>NaN</td>\n",
       "      <td>GMT+000000 Africa/Johannesburg</td>\n",
       "      <td>28.28</td>\n",
       "      <td>-25.79</td>\n",
       "    </tr>\n",
       "    <tr>\n",
       "      <th>25599</th>\n",
       "      <td>Starbucks</td>\n",
       "      <td>47609-253286</td>\n",
       "      <td>Mall of Africa</td>\n",
       "      <td>Licensed</td>\n",
       "      <td>Shop 2077, Upper Level, Waterfall City</td>\n",
       "      <td>Midrand</td>\n",
       "      <td>GT</td>\n",
       "      <td>ZA</td>\n",
       "      <td>1682</td>\n",
       "      <td>27873500215</td>\n",
       "      <td>GMT+000000 Africa/Johannesburg</td>\n",
       "      <td>28.11</td>\n",
       "      <td>-26.02</td>\n",
       "    </tr>\n",
       "  </tbody>\n",
       "</table>\n",
       "</div>"
      ],
      "text/plain": [
       "           Brand  Store Number      Store Name Ownership Type  \\\n",
       "25595  Starbucks  21401-212072             Rex       Licensed   \n",
       "25596  Starbucks  24010-226985        Panorama       Licensed   \n",
       "25597  Starbucks  47608-253804   Rosebank Mall       Licensed   \n",
       "25598  Starbucks  47640-253809    Menlyn Maine       Licensed   \n",
       "25599  Starbucks  47609-253286  Mall of Africa       Licensed   \n",
       "\n",
       "                                                  Street Address  \\\n",
       "25595  141 Nguyễn Huệ, Quận 1, Góc đường Pasteur và Lê Thánh Tôn   \n",
       "25596          SN-44, Tòa Nhà Panorama, 208 Trần Văn Trà, Quận 7   \n",
       "25597                  Cnr Tyrwhitt and Cradock Avenue, Rosebank   \n",
       "25598     Shop 61B, Central Square, Cnr Aramist & Corobay Avenue   \n",
       "25599                     Shop 2077, Upper Level, Waterfall City   \n",
       "\n",
       "                        City State/Province Country Postcode  Phone Number  \\\n",
       "25595  Thành Phố Hồ Chí Minh             SG      VN    70000  08 3824 4668   \n",
       "25596  Thành Phố Hồ Chí Minh             SG      VN    70000  08 5413 8292   \n",
       "25597           Johannesburg             GT      ZA     2194   27873500159   \n",
       "25598                 Menlyn             GT      ZA      181           NaN   \n",
       "25599                Midrand             GT      ZA     1682   27873500215   \n",
       "\n",
       "                             Timezone  Longitude  Latitude  \n",
       "25595          GMT+000000 Asia/Saigon     106.70     10.78  \n",
       "25596          GMT+000000 Asia/Saigon     106.71     10.72  \n",
       "25597  GMT+000000 Africa/Johannesburg      28.04    -26.15  \n",
       "25598  GMT+000000 Africa/Johannesburg      28.28    -25.79  \n",
       "25599  GMT+000000 Africa/Johannesburg      28.11    -26.02  "
      ]
     },
     "execution_count": 6,
     "metadata": {},
     "output_type": "execute_result"
    }
   ],
   "source": [
    "starbucks.tail()"
   ]
  },
  {
   "cell_type": "code",
   "execution_count": 7,
   "id": "dd58f6dc",
   "metadata": {},
   "outputs": [
    {
     "data": {
      "text/plain": [
       "(25600, 13)"
      ]
     },
     "execution_count": 7,
     "metadata": {},
     "output_type": "execute_result"
    }
   ],
   "source": [
    "starbucks.shape"
   ]
  },
  {
   "cell_type": "code",
   "execution_count": 8,
   "id": "1c6d8a1a",
   "metadata": {},
   "outputs": [
    {
     "data": {
      "text/plain": [
       "332800"
      ]
     },
     "execution_count": 8,
     "metadata": {},
     "output_type": "execute_result"
    }
   ],
   "source": [
    "starbucks.size"
   ]
  },
  {
   "cell_type": "code",
   "execution_count": 9,
   "id": "f2678cee",
   "metadata": {},
   "outputs": [
    {
     "data": {
      "text/plain": [
       "2"
      ]
     },
     "execution_count": 9,
     "metadata": {},
     "output_type": "execute_result"
    }
   ],
   "source": [
    "starbucks.ndim"
   ]
  },
  {
   "cell_type": "code",
   "execution_count": 10,
   "id": "22fb78ec",
   "metadata": {},
   "outputs": [
    {
     "name": "stdout",
     "output_type": "stream",
     "text": [
      "<class 'pandas.core.frame.DataFrame'>\n",
      "RangeIndex: 25600 entries, 0 to 25599\n",
      "Data columns (total 13 columns):\n",
      " #   Column          Non-Null Count  Dtype  \n",
      "---  ------          --------------  -----  \n",
      " 0   Brand           25600 non-null  object \n",
      " 1   Store Number    25600 non-null  object \n",
      " 2   Store Name      25600 non-null  object \n",
      " 3   Ownership Type  25600 non-null  object \n",
      " 4   Street Address  25598 non-null  object \n",
      " 5   City            25585 non-null  object \n",
      " 6   State/Province  25600 non-null  object \n",
      " 7   Country         25600 non-null  object \n",
      " 8   Postcode        24078 non-null  object \n",
      " 9   Phone Number    18739 non-null  object \n",
      " 10  Timezone        25600 non-null  object \n",
      " 11  Longitude       25599 non-null  float64\n",
      " 12  Latitude        25599 non-null  float64\n",
      "dtypes: float64(2), object(11)\n",
      "memory usage: 2.5+ MB\n"
     ]
    }
   ],
   "source": [
    "starbucks.info()"
   ]
  },
  {
   "cell_type": "code",
   "execution_count": 11,
   "id": "1ddffc90",
   "metadata": {},
   "outputs": [
    {
     "data": {
      "text/html": [
       "<div>\n",
       "<style scoped>\n",
       "    .dataframe tbody tr th:only-of-type {\n",
       "        vertical-align: middle;\n",
       "    }\n",
       "\n",
       "    .dataframe tbody tr th {\n",
       "        vertical-align: top;\n",
       "    }\n",
       "\n",
       "    .dataframe thead th {\n",
       "        text-align: right;\n",
       "    }\n",
       "</style>\n",
       "<table border=\"1\" class=\"dataframe\">\n",
       "  <thead>\n",
       "    <tr style=\"text-align: right;\">\n",
       "      <th></th>\n",
       "      <th>count</th>\n",
       "      <th>mean</th>\n",
       "      <th>std</th>\n",
       "      <th>min</th>\n",
       "      <th>25%</th>\n",
       "      <th>50%</th>\n",
       "      <th>75%</th>\n",
       "      <th>max</th>\n",
       "    </tr>\n",
       "  </thead>\n",
       "  <tbody>\n",
       "    <tr>\n",
       "      <th>Longitude</th>\n",
       "      <td>25599.0</td>\n",
       "      <td>-27.872234</td>\n",
       "      <td>96.844046</td>\n",
       "      <td>-159.46</td>\n",
       "      <td>-104.665</td>\n",
       "      <td>-79.35</td>\n",
       "      <td>100.63</td>\n",
       "      <td>176.92</td>\n",
       "    </tr>\n",
       "    <tr>\n",
       "      <th>Latitude</th>\n",
       "      <td>25599.0</td>\n",
       "      <td>34.793016</td>\n",
       "      <td>13.342332</td>\n",
       "      <td>-46.41</td>\n",
       "      <td>31.240</td>\n",
       "      <td>36.75</td>\n",
       "      <td>41.57</td>\n",
       "      <td>64.85</td>\n",
       "    </tr>\n",
       "  </tbody>\n",
       "</table>\n",
       "</div>"
      ],
      "text/plain": [
       "             count       mean        std     min      25%    50%     75%  \\\n",
       "Longitude  25599.0 -27.872234  96.844046 -159.46 -104.665 -79.35  100.63   \n",
       "Latitude   25599.0  34.793016  13.342332  -46.41   31.240  36.75   41.57   \n",
       "\n",
       "              max  \n",
       "Longitude  176.92  \n",
       "Latitude    64.85  "
      ]
     },
     "execution_count": 11,
     "metadata": {},
     "output_type": "execute_result"
    }
   ],
   "source": [
    "starbucks.describe().T"
   ]
  },
  {
   "cell_type": "code",
   "execution_count": 12,
   "id": "372b5dc8",
   "metadata": {},
   "outputs": [
    {
     "data": {
      "text/plain": [
       "Brand                0\n",
       "Store Number         0\n",
       "Store Name           0\n",
       "Ownership Type       0\n",
       "Street Address       2\n",
       "City                15\n",
       "State/Province       0\n",
       "Country              0\n",
       "Postcode          1522\n",
       "Phone Number      6861\n",
       "Timezone             0\n",
       "Longitude            1\n",
       "Latitude             1\n",
       "dtype: int64"
      ]
     },
     "execution_count": 12,
     "metadata": {},
     "output_type": "execute_result"
    }
   ],
   "source": [
    "starbucks.isnull().sum()"
   ]
  },
  {
   "cell_type": "code",
   "execution_count": 13,
   "id": "1269f1c2",
   "metadata": {},
   "outputs": [
    {
     "data": {
      "text/plain": [
       "Index(['Brand', 'Store Number', 'Store Name', 'Ownership Type',\n",
       "       'Street Address', 'City', 'State/Province', 'Country', 'Postcode',\n",
       "       'Phone Number', 'Timezone', 'Longitude', 'Latitude'],\n",
       "      dtype='object')"
      ]
     },
     "execution_count": 13,
     "metadata": {},
     "output_type": "execute_result"
    }
   ],
   "source": [
    "starbucks.columns"
   ]
  },
  {
   "cell_type": "code",
   "execution_count": 14,
   "id": "d8eb8642",
   "metadata": {},
   "outputs": [
    {
     "data": {
      "text/plain": [
       "Brand             0\n",
       "Store Number      0\n",
       "Store Name        0\n",
       "Ownership Type    0\n",
       "Street Address    0\n",
       "City              0\n",
       "State/Province    0\n",
       "Country           0\n",
       "Postcode          0\n",
       "Phone Number      0\n",
       "Timezone          0\n",
       "Longitude         0\n",
       "Latitude          0\n",
       "dtype: int64"
      ]
     },
     "execution_count": 14,
     "metadata": {},
     "output_type": "execute_result"
    }
   ],
   "source": [
    "\n",
    "starbucks[starbucks.duplicated()].count()"
   ]
  },
  {
   "cell_type": "markdown",
   "id": "b002776e",
   "metadata": {},
   "source": [
    "- **B) Delete the following features:**\n",
    "   - Store Number\n",
    "   - Timezone\n",
    "   - Longitude\n",
    "   - Latitude "
   ]
  },
  {
   "cell_type": "code",
   "execution_count": 15,
   "id": "1db350d9",
   "metadata": {},
   "outputs": [],
   "source": [
    "starbucks.drop(['Store Number', 'Timezone', 'Longitude', 'Latitude'], axis = 1, inplace = True)"
   ]
  },
  {
   "cell_type": "code",
   "execution_count": 16,
   "id": "5e618f81",
   "metadata": {},
   "outputs": [
    {
     "data": {
      "text/html": [
       "<div>\n",
       "<style scoped>\n",
       "    .dataframe tbody tr th:only-of-type {\n",
       "        vertical-align: middle;\n",
       "    }\n",
       "\n",
       "    .dataframe tbody tr th {\n",
       "        vertical-align: top;\n",
       "    }\n",
       "\n",
       "    .dataframe thead th {\n",
       "        text-align: right;\n",
       "    }\n",
       "</style>\n",
       "<table border=\"1\" class=\"dataframe\">\n",
       "  <thead>\n",
       "    <tr style=\"text-align: right;\">\n",
       "      <th></th>\n",
       "      <th>Brand</th>\n",
       "      <th>Store Name</th>\n",
       "      <th>Ownership Type</th>\n",
       "      <th>Street Address</th>\n",
       "      <th>City</th>\n",
       "      <th>State/Province</th>\n",
       "      <th>Country</th>\n",
       "      <th>Postcode</th>\n",
       "      <th>Phone Number</th>\n",
       "    </tr>\n",
       "  </thead>\n",
       "  <tbody>\n",
       "    <tr>\n",
       "      <th>0</th>\n",
       "      <td>Starbucks</td>\n",
       "      <td>Meritxell, 96</td>\n",
       "      <td>Licensed</td>\n",
       "      <td>Av. Meritxell, 96</td>\n",
       "      <td>Andorra la Vella</td>\n",
       "      <td>7</td>\n",
       "      <td>AD</td>\n",
       "      <td>AD500</td>\n",
       "      <td>376818720</td>\n",
       "    </tr>\n",
       "    <tr>\n",
       "      <th>1</th>\n",
       "      <td>Starbucks</td>\n",
       "      <td>Ajman Drive Thru</td>\n",
       "      <td>Licensed</td>\n",
       "      <td>1 Street 69, Al Jarf</td>\n",
       "      <td>Ajman</td>\n",
       "      <td>AJ</td>\n",
       "      <td>AE</td>\n",
       "      <td>NaN</td>\n",
       "      <td>NaN</td>\n",
       "    </tr>\n",
       "    <tr>\n",
       "      <th>2</th>\n",
       "      <td>Starbucks</td>\n",
       "      <td>Dana Mall</td>\n",
       "      <td>Licensed</td>\n",
       "      <td>Sheikh Khalifa Bin Zayed St.</td>\n",
       "      <td>Ajman</td>\n",
       "      <td>AJ</td>\n",
       "      <td>AE</td>\n",
       "      <td>NaN</td>\n",
       "      <td>NaN</td>\n",
       "    </tr>\n",
       "    <tr>\n",
       "      <th>3</th>\n",
       "      <td>Starbucks</td>\n",
       "      <td>Twofour 54</td>\n",
       "      <td>Licensed</td>\n",
       "      <td>Al Salam Street</td>\n",
       "      <td>Abu Dhabi</td>\n",
       "      <td>AZ</td>\n",
       "      <td>AE</td>\n",
       "      <td>NaN</td>\n",
       "      <td>NaN</td>\n",
       "    </tr>\n",
       "    <tr>\n",
       "      <th>4</th>\n",
       "      <td>Starbucks</td>\n",
       "      <td>Al Ain Tower</td>\n",
       "      <td>Licensed</td>\n",
       "      <td>Khaldiya Area, Abu Dhabi Island</td>\n",
       "      <td>Abu Dhabi</td>\n",
       "      <td>AZ</td>\n",
       "      <td>AE</td>\n",
       "      <td>NaN</td>\n",
       "      <td>NaN</td>\n",
       "    </tr>\n",
       "  </tbody>\n",
       "</table>\n",
       "</div>"
      ],
      "text/plain": [
       "       Brand        Store Name Ownership Type  \\\n",
       "0  Starbucks     Meritxell, 96       Licensed   \n",
       "1  Starbucks  Ajman Drive Thru       Licensed   \n",
       "2  Starbucks         Dana Mall       Licensed   \n",
       "3  Starbucks        Twofour 54       Licensed   \n",
       "4  Starbucks      Al Ain Tower       Licensed   \n",
       "\n",
       "                    Street Address              City State/Province Country  \\\n",
       "0                Av. Meritxell, 96  Andorra la Vella              7      AD   \n",
       "1             1 Street 69, Al Jarf             Ajman             AJ      AE   \n",
       "2     Sheikh Khalifa Bin Zayed St.             Ajman             AJ      AE   \n",
       "3                  Al Salam Street         Abu Dhabi             AZ      AE   \n",
       "4  Khaldiya Area, Abu Dhabi Island         Abu Dhabi             AZ      AE   \n",
       "\n",
       "  Postcode Phone Number  \n",
       "0    AD500    376818720  \n",
       "1      NaN          NaN  \n",
       "2      NaN          NaN  \n",
       "3      NaN          NaN  \n",
       "4      NaN          NaN  "
      ]
     },
     "execution_count": 16,
     "metadata": {},
     "output_type": "execute_result"
    }
   ],
   "source": [
    "starbucks.head()"
   ]
  },
  {
   "cell_type": "code",
   "execution_count": 17,
   "id": "e8eaad1a",
   "metadata": {},
   "outputs": [
    {
     "data": {
      "text/plain": [
       "(25600, 9)"
      ]
     },
     "execution_count": 17,
     "metadata": {},
     "output_type": "execute_result"
    }
   ],
   "source": [
    "starbucks.shape"
   ]
  },
  {
   "cell_type": "markdown",
   "id": "616a7bb8",
   "metadata": {},
   "source": [
    "- **C) Rename the following columns' names:**\n",
    "   - Store Name to Store\n",
    "   - Ownership Type to Ownership\n",
    "   - Street Address to Street\n",
    "   - State/Province to State\n",
    "   - Phone Number to Phone"
   ]
  },
  {
   "cell_type": "code",
   "execution_count": 18,
   "id": "62199c57",
   "metadata": {},
   "outputs": [],
   "source": [
    "# Renaming a column name\n",
    "starbucks = starbucks.rename(columns={'Store Name': 'Store', 'Ownership Type': 'Ownership',\n",
    "                                      'Street Address': 'Street', 'State/Province': 'State',\n",
    "                                      'Phone Number': 'Phone'})"
   ]
  },
  {
   "cell_type": "code",
   "execution_count": 19,
   "id": "5bc70349",
   "metadata": {},
   "outputs": [
    {
     "data": {
      "text/plain": [
       "Index(['Brand', 'Store', 'Ownership', 'Street', 'City', 'State', 'Country',\n",
       "       'Postcode', 'Phone'],\n",
       "      dtype='object')"
      ]
     },
     "execution_count": 19,
     "metadata": {},
     "output_type": "execute_result"
    }
   ],
   "source": [
    "starbucks.columns"
   ]
  },
  {
   "cell_type": "code",
   "execution_count": 20,
   "id": "0d4cf3ff",
   "metadata": {},
   "outputs": [
    {
     "data": {
      "text/html": [
       "<div>\n",
       "<style scoped>\n",
       "    .dataframe tbody tr th:only-of-type {\n",
       "        vertical-align: middle;\n",
       "    }\n",
       "\n",
       "    .dataframe tbody tr th {\n",
       "        vertical-align: top;\n",
       "    }\n",
       "\n",
       "    .dataframe thead th {\n",
       "        text-align: right;\n",
       "    }\n",
       "</style>\n",
       "<table border=\"1\" class=\"dataframe\">\n",
       "  <thead>\n",
       "    <tr style=\"text-align: right;\">\n",
       "      <th></th>\n",
       "      <th>Brand</th>\n",
       "      <th>Store</th>\n",
       "      <th>Ownership</th>\n",
       "      <th>Street</th>\n",
       "      <th>City</th>\n",
       "      <th>State</th>\n",
       "      <th>Country</th>\n",
       "      <th>Postcode</th>\n",
       "      <th>Phone</th>\n",
       "    </tr>\n",
       "  </thead>\n",
       "  <tbody>\n",
       "    <tr>\n",
       "      <th>0</th>\n",
       "      <td>Starbucks</td>\n",
       "      <td>Meritxell, 96</td>\n",
       "      <td>Licensed</td>\n",
       "      <td>Av. Meritxell, 96</td>\n",
       "      <td>Andorra la Vella</td>\n",
       "      <td>7</td>\n",
       "      <td>AD</td>\n",
       "      <td>AD500</td>\n",
       "      <td>376818720</td>\n",
       "    </tr>\n",
       "    <tr>\n",
       "      <th>1</th>\n",
       "      <td>Starbucks</td>\n",
       "      <td>Ajman Drive Thru</td>\n",
       "      <td>Licensed</td>\n",
       "      <td>1 Street 69, Al Jarf</td>\n",
       "      <td>Ajman</td>\n",
       "      <td>AJ</td>\n",
       "      <td>AE</td>\n",
       "      <td>NaN</td>\n",
       "      <td>NaN</td>\n",
       "    </tr>\n",
       "    <tr>\n",
       "      <th>2</th>\n",
       "      <td>Starbucks</td>\n",
       "      <td>Dana Mall</td>\n",
       "      <td>Licensed</td>\n",
       "      <td>Sheikh Khalifa Bin Zayed St.</td>\n",
       "      <td>Ajman</td>\n",
       "      <td>AJ</td>\n",
       "      <td>AE</td>\n",
       "      <td>NaN</td>\n",
       "      <td>NaN</td>\n",
       "    </tr>\n",
       "    <tr>\n",
       "      <th>3</th>\n",
       "      <td>Starbucks</td>\n",
       "      <td>Twofour 54</td>\n",
       "      <td>Licensed</td>\n",
       "      <td>Al Salam Street</td>\n",
       "      <td>Abu Dhabi</td>\n",
       "      <td>AZ</td>\n",
       "      <td>AE</td>\n",
       "      <td>NaN</td>\n",
       "      <td>NaN</td>\n",
       "    </tr>\n",
       "    <tr>\n",
       "      <th>4</th>\n",
       "      <td>Starbucks</td>\n",
       "      <td>Al Ain Tower</td>\n",
       "      <td>Licensed</td>\n",
       "      <td>Khaldiya Area, Abu Dhabi Island</td>\n",
       "      <td>Abu Dhabi</td>\n",
       "      <td>AZ</td>\n",
       "      <td>AE</td>\n",
       "      <td>NaN</td>\n",
       "      <td>NaN</td>\n",
       "    </tr>\n",
       "  </tbody>\n",
       "</table>\n",
       "</div>"
      ],
      "text/plain": [
       "       Brand             Store Ownership                           Street  \\\n",
       "0  Starbucks     Meritxell, 96  Licensed                Av. Meritxell, 96   \n",
       "1  Starbucks  Ajman Drive Thru  Licensed             1 Street 69, Al Jarf   \n",
       "2  Starbucks         Dana Mall  Licensed     Sheikh Khalifa Bin Zayed St.   \n",
       "3  Starbucks        Twofour 54  Licensed                  Al Salam Street   \n",
       "4  Starbucks      Al Ain Tower  Licensed  Khaldiya Area, Abu Dhabi Island   \n",
       "\n",
       "               City State Country Postcode      Phone  \n",
       "0  Andorra la Vella     7      AD    AD500  376818720  \n",
       "1             Ajman    AJ      AE      NaN        NaN  \n",
       "2             Ajman    AJ      AE      NaN        NaN  \n",
       "3         Abu Dhabi    AZ      AE      NaN        NaN  \n",
       "4         Abu Dhabi    AZ      AE      NaN        NaN  "
      ]
     },
     "execution_count": 20,
     "metadata": {},
     "output_type": "execute_result"
    }
   ],
   "source": [
    "starbucks.head()"
   ]
  },
  {
   "cell_type": "code",
   "execution_count": 21,
   "id": "ecae1fd1",
   "metadata": {},
   "outputs": [],
   "source": [
    "us_states = starbucks[starbucks['Country'] == 'US']"
   ]
  },
  {
   "cell_type": "code",
   "execution_count": 22,
   "id": "b2e10d44",
   "metadata": {},
   "outputs": [
    {
     "name": "stdout",
     "output_type": "stream",
     "text": [
      "The unique values in Brand are as follows:\n",
      "Starbucks                25249\n",
      "Teavana                    348\n",
      "Evolution Fresh              2\n",
      "Coffee House Holdings        1\n",
      "Name: Brand, dtype: int64\n",
      "\n",
      "-------------------------------------------------\n",
      "The unique values in Ownership are as follows:\n",
      "Company Owned    11932\n",
      "Licensed          9375\n",
      "Joint Venture     3976\n",
      "Franchise          317\n",
      "Name: Ownership, dtype: int64\n",
      "\n",
      "-------------------------------------------------\n",
      "The unique values in Country are as follows:\n",
      "US    13608\n",
      "CN     2734\n",
      "CA     1468\n",
      "JP     1237\n",
      "KR      993\n",
      "      ...  \n",
      "CW        3\n",
      "AW        3\n",
      "MC        2\n",
      "LU        2\n",
      "AD        1\n",
      "Name: Country, Length: 73, dtype: int64\n",
      "\n",
      "-------------------------------------------------\n",
      "The unique values in State are as follows:\n",
      "CA     2821\n",
      "TX     1042\n",
      "ENG     787\n",
      "WA      757\n",
      "11      706\n",
      "       ... \n",
      "60        1\n",
      "ICA       1\n",
      "CAJ       1\n",
      "D         1\n",
      "SA        1\n",
      "Name: State, Length: 338, dtype: int64\n",
      "\n",
      "-------------------------------------------------\n",
      "The unique values in City are as follows:\n",
      "上海市              542\n",
      "Seoul            243\n",
      "北京市              234\n",
      "New York         232\n",
      "London           216\n",
      "                ... \n",
      "Tepebasi           1\n",
      "Isparta            1\n",
      "Mersin (Icel)      1\n",
      "Mersin Icel        1\n",
      "Midrand            1\n",
      "Name: City, Length: 5469, dtype: int64\n",
      "\n",
      "-------------------------------------------------\n"
     ]
    }
   ],
   "source": [
    "for i in ['Brand', 'Ownership', 'Country', 'State', 'City']:\n",
    "    print('The unique values in', i, 'are as follows:')\n",
    "    print(starbucks[i].value_counts())\n",
    "    print('\\n-------------------------------------------------')"
   ]
  },
  {
   "cell_type": "code",
   "execution_count": 23,
   "id": "59cf059b",
   "metadata": {},
   "outputs": [
    {
     "data": {
      "text/plain": [
       "25600"
      ]
     },
     "execution_count": 23,
     "metadata": {},
     "output_type": "execute_result"
    }
   ],
   "source": [
    "starbucks['Store'].count()"
   ]
  },
  {
   "cell_type": "markdown",
   "id": "dd8df83a",
   "metadata": {},
   "source": [
    "- **D) Visualization:**\n",
    "  - Plot the categories of the Brand column (first index the unique categories in the Brand column)\n",
    "  - Plot the categories of the Ownership column (first index the unique categories in the Ownership column)\n",
    "  - Plot the 10 countries with highest number of stores (first index the the 10 countries with highest number of stores in the Country column)\n",
    "  - Plot the 10 cities with highest number of stores (first index the the 10 cities with highest number of stores in the City column)\n",
    "   - Plot the 10 US states with highest number of stores (first index the the 10 US states with highest number of stores)"
   ]
  },
  {
   "cell_type": "code",
   "execution_count": 24,
   "id": "0b68c6e6",
   "metadata": {},
   "outputs": [],
   "source": [
    "us_states = starbucks[starbucks['Country'] == 'US']"
   ]
  },
  {
   "cell_type": "code",
   "execution_count": 25,
   "id": "96fa2ce0",
   "metadata": {},
   "outputs": [
    {
     "data": {
      "text/plain": [
       "0    Starbucks\n",
       "1    Starbucks\n",
       "2    Starbucks\n",
       "3    Starbucks\n",
       "4    Starbucks\n",
       "Name: Brand, dtype: object"
      ]
     },
     "execution_count": 25,
     "metadata": {},
     "output_type": "execute_result"
    }
   ],
   "source": [
    "star_1 = starbucks['Brand']\n",
    "star_1.head()"
   ]
  },
  {
   "cell_type": "code",
   "execution_count": 26,
   "id": "7ed18f88",
   "metadata": {},
   "outputs": [
    {
     "data": {
      "text/plain": [
       "25600"
      ]
     },
     "execution_count": 26,
     "metadata": {},
     "output_type": "execute_result"
    }
   ],
   "source": [
    "len(star_1)"
   ]
  },
  {
   "cell_type": "code",
   "execution_count": 27,
   "id": "d7ce4d95",
   "metadata": {},
   "outputs": [
    {
     "data": {
      "image/png": "[encoded data removed]",
      "text/plain": [
       "<Figure size 640x480 with 1 Axes>"
      ]
     },
     "metadata": {},
     "output_type": "display_data"
    }
   ],
   "source": [
    "plt.hist(star_1, bins=20);"
   ]
  },
  {
   "cell_type": "code",
   "execution_count": 28,
   "id": "2d64a7e7",
   "metadata": {},
   "outputs": [
    {
     "data": {
      "text/plain": [
       "0    Licensed\n",
       "1    Licensed\n",
       "2    Licensed\n",
       "3    Licensed\n",
       "4    Licensed\n",
       "Name: Ownership, dtype: object"
      ]
     },
     "execution_count": 28,
     "metadata": {},
     "output_type": "execute_result"
    }
   ],
   "source": [
    "star_2 = starbucks['Ownership']\n",
    "star_2.head()"
   ]
  },
  {
   "cell_type": "code",
   "execution_count": 29,
   "id": "24953052",
   "metadata": {},
   "outputs": [
    {
     "data": {
      "text/plain": [
       "25600"
      ]
     },
     "execution_count": 29,
     "metadata": {},
     "output_type": "execute_result"
    }
   ],
   "source": [
    "len(star_2)"
   ]
  },
  {
   "cell_type": "code",
   "execution_count": 30,
   "id": "19936d13",
   "metadata": {},
   "outputs": [
    {
     "data": {
      "image/png": "[encoded data removed]",
      "text/plain": [
       "<Figure size 640x480 with 1 Axes>"
      ]
     },
     "metadata": {},
     "output_type": "display_data"
    }
   ],
   "source": [
    "plt.hist(star_2, bins=20);"
   ]
  },
  {
   "cell_type": "code",
   "execution_count": 31,
   "id": "e8674da6",
   "metadata": {},
   "outputs": [
    {
     "data": {
      "text/plain": [
       "US    13608\n",
       "CN     2734\n",
       "CA     1468\n",
       "JP     1237\n",
       "KR      993\n",
       "GB      901\n",
       "MX      579\n",
       "TW      394\n",
       "TR      326\n",
       "PH      298\n",
       "Name: Country, dtype: int64"
      ]
     },
     "execution_count": 31,
     "metadata": {},
     "output_type": "execute_result"
    }
   ],
   "source": [
    "star_3_top_10 = starbucks['Country'].value_counts().head(10)\n",
    "star_3_top_10.head(10)"
   ]
  },
  {
   "cell_type": "code",
   "execution_count": 32,
   "id": "1dbf0d39",
   "metadata": {},
   "outputs": [
    {
     "data": {
      "text/plain": [
       "10"
      ]
     },
     "execution_count": 32,
     "metadata": {},
     "output_type": "execute_result"
    }
   ],
   "source": [
    "len(star_3_top_10)"
   ]
  },
  {
   "cell_type": "code",
   "execution_count": 33,
   "id": "84f9e153",
   "metadata": {
    "scrolled": false
   },
   "outputs": [
    {
     "data": {
      "image/png": "[encoded data removed]",
      "text/plain": [
       "<Figure size 640x480 with 1 Axes>"
      ]
     },
     "metadata": {},
     "output_type": "display_data"
    }
   ],
   "source": [
    "plt.bar(star_3_top_10.index, star_3_top_10)\n",
    "plt.xticks(rotation=90)\n",
    "colors = ['red', 'green', 'blue', 'orange', 'purple', 'pink', 'yellow', 'gray', 'brown', 'cyan']\n",
    "plt.bar(star_3_top_10.index, star_3_top_10, color=colors)\n",
    "plt.xlabel('Country')\n",
    "plt.ylabel('Number of stores')\n",
    "plt.title('Top 10 Countries with Highest Number of Starbucks Stores')\n",
    "plt.show()"
   ]
  },
  {
   "cell_type": "code",
   "execution_count": 34,
   "id": "dc7457b1",
   "metadata": {},
   "outputs": [
    {
     "data": {
      "text/plain": [
       "上海市            542\n",
       "Seoul          243\n",
       "北京市            234\n",
       "New York       232\n",
       "London         216\n",
       "Toronto        192\n",
       "Chicago        180\n",
       "Mexico City    180\n",
       "Seattle        156\n",
       "Las Vegas      156\n",
       "Name: City, dtype: int64"
      ]
     },
     "execution_count": 34,
     "metadata": {},
     "output_type": "execute_result"
    }
   ],
   "source": [
    "star_4_top_10 = starbucks['City'].value_counts().head(10)\n",
    "star_4_top_10.head(10)"
   ]
  },
  {
   "cell_type": "code",
   "execution_count": 35,
   "id": "327e3fa3",
   "metadata": {},
   "outputs": [
    {
     "data": {
      "text/plain": [
       "10"
      ]
     },
     "execution_count": 35,
     "metadata": {},
     "output_type": "execute_result"
    }
   ],
   "source": [
    "len(star_4_top_10)"
   ]
  },
  {
   "cell_type": "code",
   "execution_count": 36,
   "id": "6d0225f7",
   "metadata": {},
   "outputs": [
    {
     "data": {
      "image/png": "[encoded data removed]",
      "text/plain": [
       "<Figure size 640x480 with 1 Axes>"
      ]
     },
     "metadata": {},
     "output_type": "display_data"
    }
   ],
   "source": [
    "plt.bar(star_4_top_10.index, star_4_top_10)\n",
    "plt.xticks(rotation=90)\n",
    "colors = ['red', 'green', 'blue', 'orange', 'purple', 'pink', 'yellow', 'gray', 'brown', 'cyan']\n",
    "plt.bar(star_4_top_10.index, star_4_top_10, color=colors)\n",
    "plt.xlabel('City')\n",
    "plt.ylabel('Number of stores')\n",
    "plt.title('Top 10 Cities with Highest Number of Starbucks Stores')\n",
    "plt.show()"
   ]
  },
  {
   "cell_type": "code",
   "execution_count": 37,
   "id": "31b399b7",
   "metadata": {},
   "outputs": [
    {
     "data": {
      "text/plain": [
       "CA    2821\n",
       "TX    1042\n",
       "WA     757\n",
       "FL     694\n",
       "NY     645\n",
       "IL     575\n",
       "AZ     488\n",
       "CO     481\n",
       "VA     432\n",
       "OH     378\n",
       "Name: State, dtype: int64"
      ]
     },
     "execution_count": 37,
     "metadata": {},
     "output_type": "execute_result"
    }
   ],
   "source": [
    "us_states = starbucks[starbucks['Country'] == 'US']\n",
    "star_5_top_10 = us_states['State'].value_counts().head(10)\n",
    "star_5_top_10.head(10)"
   ]
  },
  {
   "cell_type": "code",
   "execution_count": 38,
   "id": "fdecc758",
   "metadata": {},
   "outputs": [
    {
     "data": {
      "image/png": "[encoded data removed]",
      "text/plain": [
       "<Figure size 640x480 with 1 Axes>"
      ]
     },
     "metadata": {},
     "output_type": "display_data"
    }
   ],
   "source": [
    "plt.bar(star_5_top_10.index, star_5_top_10)\n",
    "plt.xticks(rotation=90)\n",
    "colors = ['red', 'green', 'blue', 'orange', 'purple', 'pink', 'yellow', 'gray', 'brown', 'cyan']\n",
    "plt.bar(star_5_top_10.index, star_5_top_10, color=colors)\n",
    "plt.xlabel('State')\n",
    "plt.ylabel('Number of stores')\n",
    "plt.title('Top 10 US States with Highest Number of Starbucks Stores')\n",
    "plt.show()"
   ]
  },
  {
   "cell_type": "markdown",
   "id": "549c9f25",
   "metadata": {},
   "source": [
    "- **E) EDA Summary:**\n",
    "\n",
    "1. The Brand column has four unique values: Starbucks, Teavana, Evolution Fresh, and Coffee House Holdings. Starbucks has the highest number of occurrences in this column, with 25,249 instances.\n",
    "\n",
    "2. The Ownership column has four unique values: Company Owned, Licensed, Joint Venture, and Franchise. Company Owned is the most common ownership type, with 11,932 instances.\n",
    "\n",
    "3. The Country column has 73 unique values, with the United States having the highest number of occurrences (13,608). China, Canada, Japan, and South Korea round out the top five.\n",
    "\n",
    "4. The top 10 US states with the highest number of Starbucks stores are:\n",
    " - CA    2821\n",
    " - TX    1042\n",
    " - WA     757\n",
    " - FL     694\n",
    " - NY     645\n",
    " - IL     575\n",
    " - AZ     488\n",
    " - CO     481\n",
    " - VA     432\n",
    " - OH     378\n",
    "\n",
    "5. 上海市 is the city with the highest number of Starbucks stores with 542 stores.\n",
    "6. Seoul and Beijing follow with 243 and 234 stores respectively.\n",
    "7. New York and London complete the top 5 with 232 and 216 stores respectively.\n",
    "8. Toronto, Chicago, and Mexico City share the 6th position with 180 stores each.\n",
    "9. Seattle and Las Vegas complete the top 10 with 156 stores each."
   ]
  },
  {
   "cell_type": "markdown",
   "id": "17c641b4",
   "metadata": {},
   "source": [
    "## 5. Missing Values\n",
    "- Drop All Missing Values (only the rows not the columns)"
   ]
  },
  {
   "cell_type": "code",
   "execution_count": 39,
   "id": "b03966c0",
   "metadata": {},
   "outputs": [],
   "source": [
    "starbucks.dropna(axis=0, inplace=True)"
   ]
  },
  {
   "cell_type": "code",
   "execution_count": 40,
   "id": "5a6ce1f9",
   "metadata": {},
   "outputs": [
    {
     "data": {
      "text/plain": [
       "Brand        0\n",
       "Store        0\n",
       "Ownership    0\n",
       "Street       0\n",
       "City         0\n",
       "State        0\n",
       "Country      0\n",
       "Postcode     0\n",
       "Phone        0\n",
       "dtype: int64"
      ]
     },
     "execution_count": 40,
     "metadata": {},
     "output_type": "execute_result"
    }
   ],
   "source": [
    "starbucks.isnull().sum()"
   ]
  },
  {
   "cell_type": "markdown",
   "id": "cd501128",
   "metadata": {},
   "source": [
    "## 6. Key Mining Questions:\n",
    "\n",
    "1. How many Starbucks stores altogether are there in this dataset? **18084**\n",
    "2. In how many countries are these Starbucks stores in this dataset? **73**\n",
    "3. Which country has the most number of Starbucks stores in this dataset? **US 13608 stores.**\n",
    "4. What are the first 5 countries with the highest number of Starbucks stores in this dataset?\n",
    " - United States (US - 13608)\n",
    " - China (CN - 2734)\n",
    " - Canada (CA - 1468)\n",
    " - Japan (JP - 1237)\n",
    " - South Korea (KR - 993)\n",
    "4. Which city has the most number of Starbucks stores in this dataset? **上海市 (Shanghai) with 542 stores.**\n",
    "5. What are the first 5 cities with the highest number of Starbucks stores in this dataset?\n",
    " - 上海市 (Shanghai), with 542 stores\n",
    " - Seoul, with 243 stores\n",
    " - 北京市 (Beijing), with 234 stores\n",
    " - New York, with 232 stores\n",
    " - London, with 216 stores\n",
    "7. Which US State has the most number of Starbucks stores in this dataset? **California (CA), with a total of 2821 stores.**\n",
    "8. What are the first 5 US States with the highest number of Starbucks stores in this dataset?\n",
    " - CA - 2821\n",
    " - TX - 1042\n",
    " - WA - 757\n",
    " - FL - 694\n",
    " - NY - 645"
   ]
  },
  {
   "cell_type": "markdown",
   "id": "d3423ccc",
   "metadata": {},
   "source": [
    "## 7. Conclusion (Feedback):\n",
    "\n",
    "1. There are a total of 18,084 Starbucks stores in this dataset, spread across 73 countries.\n",
    "\n",
    "2. The United States has the highest number of Starbucks stores, with 13,608 stores, followed by China, Canada, Japan, and South Korea.\n",
    "\n",
    "3. The most common ownership type for Starbucks stores in this dataset is Company Owned, with 11,932 instances.\n",
    "\n",
    "4. Starbucks is the most frequent brand in the dataset, with 25,249 instances.\n",
    "\n",
    "5. The top five cities with the highest number of Starbucks stores are Shanghai, Seoul, Beijing, New York, and London.\n",
    "\n",
    "6. In the United States, California has the most number of Starbucks stores, with 2,821 stores, followed by Texas, Washington, Florida, and New York.\n",
    "\n",
    "7. Starbucks stores are spread across different ownership types, including Company Owned, Licensed, Joint Venture, and Franchise.\n",
    "\n",
    "8. The dataset provides valuable insights into Starbucks' global presence and can be used to inform strategic decisions related to store expansion, brand positioning, and customer targeting."
   ]
  }
 ],
 "metadata": {
  "kernelspec": {
   "display_name": "Python 3 (ipykernel)",
   "language": "python",
   "name": "python3"
  },
  "language_info": {
   "codemirror_mode": {
    "name": "ipython",
    "version": 3
   },
   "file_extension": ".py",
   "mimetype": "text/x-python",
   "name": "python",
   "nbconvert_exporter": "python",
   "pygments_lexer": "ipython3",
   "version": "3.10.9"
  },
  "toc": {
   "base_numbering": 1,
   "nav_menu": {},
   "number_sections": true,
   "sideBar": true,
   "skip_h1_title": false,
   "title_cell": "Table of Contents",
   "title_sidebar": "Contents",
   "toc_cell": false,
   "toc_position": {},
   "toc_section_display": true,
   "toc_window_display": false
  }
 },
 "nbformat": 4,
 "nbformat_minor": 5
}
